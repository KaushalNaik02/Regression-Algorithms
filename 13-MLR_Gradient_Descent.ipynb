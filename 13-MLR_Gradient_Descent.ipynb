{
 "cells": [
  {
   "cell_type": "markdown",
   "metadata": {},
   "source": [
    "### Multiple Linear Regression Model Using Gradient Descent"
   ]
  },
  {
   "cell_type": "markdown",
   "metadata": {},
   "source": [
    "#### In This Type We Will Add The Bias into the X...Means We will Add Column Of 1's into the X"
   ]
  },
  {
   "cell_type": "code",
   "execution_count": 13,
   "metadata": {},
   "outputs": [],
   "source": [
    "import numpy as np\n",
    "import matplotlib.pyplot as plt"
   ]
  },
  {
   "cell_type": "code",
   "execution_count": 14,
   "metadata": {},
   "outputs": [
    {
     "name": "stdout",
     "output_type": "stream",
     "text": [
      "X with Bias (First Column of 1's):\n",
      " [[1. 1. 2.]\n",
      " [1. 2. 3.]\n",
      " [1. 3. 5.]\n",
      " [1. 4. 6.]]\n"
     ]
    }
   ],
   "source": [
    "# Define input features (X) and target variable (y)\n",
    "X = np.array([[1, 2], \n",
    "              [2, 3], \n",
    "              [3, 5], \n",
    "              [4, 6]])  # Features (2 columns)\n",
    "\n",
    "y = np.array([[10], [15], [20], [25]])  # Target variable\n",
    "\n",
    "# Get the number of samples (m) and features (n)\n",
    "m, n = X.shape\n",
    "\n",
    "# Add bias (column of ones) to X\n",
    "X_bias = np.c_[np.ones((m, 1)), X]  # Adding column of ones for bias # np.c will Add 1's Column And X\n",
    "\n",
    "print(\"X with Bias (First Column of 1's):\\n\", X_bias)\n"
   ]
  },
  {
   "cell_type": "code",
   "execution_count": 15,
   "metadata": {},
   "outputs": [],
   "source": [
    "# Initialize theta (weights) with zeros\n",
    "theta = np.zeros((n + 1, 1))  # (n+1) because of bias\n",
    "\n",
    "# Set learning rate and number of iterations\n",
    "alpha = 0.01  # Learning rate\n",
    "iterations = 1000  # Number of iterations\n",
    "cost_history = []  # To track cost function values\n"
   ]
  },
  {
   "cell_type": "code",
   "execution_count": null,
   "metadata": {},
   "outputs": [
    {
     "name": "stdout",
     "output_type": "stream",
     "text": [
      "Iteration 0, Cost: 168.75000\n",
      "Iteration 100, Cost: 0.72833\n",
      "Iteration 200, Cost: 0.58827\n",
      "Iteration 300, Cost: 0.48299\n",
      "Iteration 400, Cost: 0.40353\n",
      "Iteration 500, Cost: 0.34325\n",
      "Iteration 600, Cost: 0.29722\n",
      "Iteration 700, Cost: 0.26180\n",
      "Iteration 800, Cost: 0.23428\n",
      "Iteration 900, Cost: 0.21265\n",
      "\n",
      "Final Theta (coefficients):\n",
      "[[3.0822341 ]\n",
      " [1.67573498]\n",
      " [2.52809716]]\n"
     ]
    }
   ],
   "source": [
    "# Gradient Descent Algorithm\n",
    "for i in range(iterations):\n",
    "    # Compute predictions\n",
    "    predictions = np.dot(X_bias, theta)  # h(X) = Xθ\n",
    "    \n",
    "    # Compute error\n",
    "    error = predictions - y\n",
    "    \n",
    "    # Compute gradient\n",
    "    gradient = (1/m) * np.dot(X_bias.T, error)\n",
    "    \n",
    "    # Update theta                   \n",
    "    theta = theta - alpha * gradient\n",
    "    \n",
    "    # Compute cost function (Mean Squared Error)\n",
    "    cost = (1/(2*m)) * np.sum(error**2)\n",
    "    \n",
    "    # Store cost for visualization\n",
    "    cost_history.append(cost)\n",
    "\n",
    "    # Print cost for every 100 iterations\n",
    "    if i % 100 == 0:\n",
    "        print(f\"Iteration {i}, Cost: {cost:.5f}\")\n",
    "\n",
    "# Print final theta values\n",
    "print(\"\\nFinal Theta (coefficients):\")\n",
    "print(theta)\n"
   ]
  },
  {
   "cell_type": "code",
   "execution_count": 17,
   "metadata": {},
   "outputs": [
    {
     "data": {
      "image/png": "[encoded data removed]",
      "text/plain": [
       "<Figure size 640x480 with 1 Axes>"
      ]
     },
     "metadata": {},
     "output_type": "display_data"
    }
   ],
   "source": [
    "plt.plot(range(iterations), cost_history, label='Cost Function')\n",
    "plt.xlabel('Iterations')\n",
    "plt.ylabel('Cost (MSE)')\n",
    "plt.title('Gradient Descent Convergence')\n",
    "plt.legend()\n",
    "plt.show()\n"
   ]
  }
 ],
 "metadata": {
  "kernelspec": {
   "display_name": "DS_all_lib",
   "language": "python",
   "name": "python3"
  },
  "language_info": {
   "codemirror_mode": {
    "name": "ipython",
    "version": 3
   },
   "file_extension": ".py",
   "mimetype": "text/x-python",
   "name": "python",
   "nbconvert_exporter": "python",
   "pygments_lexer": "ipython3",
   "version": "3.10.5"
  }
 },
 "nbformat": 4,
 "nbformat_minor": 2
}
