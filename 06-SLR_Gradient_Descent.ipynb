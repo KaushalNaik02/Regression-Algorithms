{
 "cells": [
  {
   "cell_type": "markdown",
   "metadata": {},
   "source": [
    "#### Example For SLR using Gradint Descent"
   ]
  },
  {
   "cell_type": "code",
   "execution_count": 287,
   "metadata": {},
   "outputs": [],
   "source": [
    "import numpy as np"
   ]
  },
  {
   "cell_type": "code",
   "execution_count": 288,
   "metadata": {},
   "outputs": [],
   "source": [
    "A = np.array([10,11,13,14,16])\n",
    "b = np.array([100,110,120,130,150])\n",
    "# A = np.array([1,2,3,4,5,6])\n",
    "# b = np.array([2,4,6,8,10,12])"
   ]
  },
  {
   "cell_type": "code",
   "execution_count": null,
   "metadata": {},
   "outputs": [],
   "source": [
    "m =0 \n",
    "c =0\n",
    "epochs = 1000      \n",
    "alpha = 0.0001    # this should be che=anged and result should check\n",
    "n = len(A)"
   ]
  },
  {
   "cell_type": "code",
   "execution_count": 290,
   "metadata": {},
   "outputs": [
    {
     "name": "stdout",
     "output_type": "stream",
     "text": [
      "m :  9.427223902370109\n",
      "c :  0.8198743793632945\n"
     ]
    }
   ],
   "source": [
    "for _ in range(epochs):\n",
    "    b_pred = m*A +c\n",
    "    dm = (-2/n)*np.sum((b-b_pred)*A)\n",
    "    dc = (-2/n)*np.sum(b-b_pred)\n",
    "    m = m-alpha*(dm)\n",
    "    c = c-alpha*(dc)\n",
    "print(\"m : \",m)\n",
    "print(\"c : \",c)"
   ]
  },
  {
   "cell_type": "code",
   "execution_count": 291,
   "metadata": {},
   "outputs": [
    {
     "name": "stdout",
     "output_type": "stream",
     "text": [
      "151.65545681728503\n"
     ]
    }
   ],
   "source": [
    "pred = m*16 +c\n",
    "print(pred)"
   ]
  }
 ],
 "metadata": {
  "kernelspec": {
   "display_name": "DS_all_lib",
   "language": "python",
   "name": "python3"
  },
  "language_info": {
   "codemirror_mode": {
    "name": "ipython",
    "version": 3
   },
   "file_extension": ".py",
   "mimetype": "text/x-python",
   "name": "python",
   "nbconvert_exporter": "python",
   "pygments_lexer": "ipython3",
   "version": "3.10.5"
  }
 },
 "nbformat": 4,
 "nbformat_minor": 2
}
