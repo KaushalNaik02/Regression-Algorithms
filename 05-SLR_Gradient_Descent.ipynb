{
 "cells": [
  {
   "cell_type": "markdown",
   "metadata": {},
   "source": [
    "### Perfrming SLR using Gradient Descent"
   ]
  },
  {
   "cell_type": "code",
   "execution_count": 142,
   "metadata": {},
   "outputs": [],
   "source": [
    "import numpy as np"
   ]
  },
  {
   "cell_type": "code",
   "execution_count": 143,
   "metadata": {},
   "outputs": [],
   "source": [
    "X = np.array([1,2,3,4,5,6])\n",
    "y= np.array([2,4,6,8,10,12])"
   ]
  },
  {
   "cell_type": "code",
   "execution_count": null,
   "metadata": {},
   "outputs": [],
   "source": [
    "m = 0\n",
    "c = 0\n",
    "alpha = 0.01\n",
    "epochs = 500         # here we have given 500 epochs but at 83 epochs the MSE will get converge\n",
    "                     # So after 83 till 500 the values will be constant \n",
    "n = len(X)"
   ]
  },
  {
   "cell_type": "code",
   "execution_count": 145,
   "metadata": {},
   "outputs": [
    {
     "name": "stdout",
     "output_type": "stream",
     "text": [
      "m :  1.6261682242990654\n",
      "c : 1.6199376947040498\n"
     ]
    }
   ],
   "source": [
    "for _ in range(epochs):\n",
    "    y_pred = m*X + c\n",
    "    dm = (-2/n)*np.sum((y-y_pred)*X)      # gradient w.r.t m\n",
    "    dc = (-2/n)*np.sum((y-y_pred))        # gradient w.r.t c\n",
    "\n",
    "    m = m - alpha*(dm)\n",
    "    c = m - alpha*(dc)\n",
    "print(\"m : \",m)\n",
    "print(\"c :\",c)\n",
    "\n",
    "# m :  1.6261682242990654\n",
    "# c : 1.6199376947040498"
   ]
  }
 ],
 "metadata": {
  "kernelspec": {
   "display_name": "DS_all_lib",
   "language": "python",
   "name": "python3"
  },
  "language_info": {
   "codemirror_mode": {
    "name": "ipython",
    "version": 3
   },
   "file_extension": ".py",
   "mimetype": "text/x-python",
   "name": "python",
   "nbconvert_exporter": "python",
   "pygments_lexer": "ipython3",
   "version": "3.10.5"
  }
 },
 "nbformat": 4,
 "nbformat_minor": 2
}
