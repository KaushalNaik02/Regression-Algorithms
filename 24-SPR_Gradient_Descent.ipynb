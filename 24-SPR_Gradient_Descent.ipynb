{
 "cells": [
  {
   "cell_type": "markdown",
   "id": "49059910",
   "metadata": {},
   "source": [
    "### Implementing Simple polynomial regression Using Gradient Descent"
   ]
  },
  {
   "cell_type": "code",
   "execution_count": 2,
   "id": "04bbbab6",
   "metadata": {},
   "outputs": [],
   "source": [
    "import numpy as np\n"
   ]
  },
  {
   "cell_type": "code",
   "execution_count": 3,
   "id": "8ddfa2a6",
   "metadata": {},
   "outputs": [],
   "source": [
    "x = np.array([1, 2])    # input features\n",
    "y = np.array([6, 17])   # output/target values\n"
   ]
  },
  {
   "cell_type": "code",
   "execution_count": 4,
   "id": "4822b8bd",
   "metadata": {},
   "outputs": [],
   "source": [
    "degree = 3  # degree of polynomial\n",
    "\n",
    "# Create design matrix X_poly: each row = [x^0, x^1, ..., x^degree]\n",
    "X_poly = np.vstack([x**i for i in range(degree + 1)]).T\n"
   ]
  },
  {
   "cell_type": "code",
   "execution_count": 5,
   "id": "5ae82e01",
   "metadata": {},
   "outputs": [],
   "source": [
    "theta = np.zeros(degree + 1)  # Initialize [θ₀, θ₁, ..., θ_d] to 0\n",
    "alpha = 0.01                  # Learning rate\n",
    "epochs = 1000                # Number of iterations\n",
    "m = len(y)                   # Number of training samples\n"
   ]
  },
  {
   "cell_type": "code",
   "execution_count": 6,
   "id": "4f453218",
   "metadata": {},
   "outputs": [],
   "source": [
    "for epoch in range(epochs):\n",
    "    y_pred = X_poly @ theta              # Step 1: Predict using current theta\n",
    "    error = y_pred - y                   # Step 2: Compute error\n",
    "    gradient = (1/m) * (X_poly.T @ error) # Step 3: Compute gradient\n",
    "    theta = theta - alpha * gradient     # Step 4: Update theta\n"
   ]
  },
  {
   "cell_type": "code",
   "execution_count": 7,
   "id": "ef40dc4a",
   "metadata": {},
   "outputs": [
    {
     "name": "stdout",
     "output_type": "stream",
     "text": [
      "Final theta after training:\n",
      "[2.02359916 1.83283809 1.45131595 0.68827167]\n"
     ]
    }
   ],
   "source": [
    "print(\"Final theta after training:\")\n",
    "print(theta)\n"
   ]
  },
  {
   "cell_type": "code",
   "execution_count": 8,
   "id": "9d694b66",
   "metadata": {},
   "outputs": [
    {
     "name": "stdout",
     "output_type": "stream",
     "text": [
      "Predictions on train data: [ 5.99602486 17.00071249]\n"
     ]
    }
   ],
   "source": [
    "y_train_pred = X_poly @ theta\n",
    "print(\"Predictions on train data:\", y_train_pred)\n"
   ]
  },
  {
   "cell_type": "code",
   "execution_count": 9,
   "id": "3bef9bbf",
   "metadata": {},
   "outputs": [
    {
     "name": "stdout",
     "output_type": "stream",
     "text": [
      "Predictions on new data: [39.16729206 76.62539361]\n"
     ]
    }
   ],
   "source": [
    "x_new = np.array([3, 4])  # new inputs\n",
    "\n",
    "# Build polynomial features for new inputs\n",
    "X_new_poly = np.vstack([x_new**i for i in range(degree + 1)]).T\n",
    "\n",
    "# Predict\n",
    "y_new_pred = X_new_poly @ theta\n",
    "print(\"Predictions on new data:\", y_new_pred)\n"
   ]
  }
 ],
 "metadata": {
  "kernelspec": {
   "display_name": "DS_all_lib",
   "language": "python",
   "name": "python3"
  },
  "language_info": {
   "codemirror_mode": {
    "name": "ipython",
    "version": 3
   },
   "file_extension": ".py",
   "mimetype": "text/x-python",
   "name": "python",
   "nbconvert_exporter": "python",
   "pygments_lexer": "ipython3",
   "version": "3.10.5"
  }
 },
 "nbformat": 4,
 "nbformat_minor": 5
}
