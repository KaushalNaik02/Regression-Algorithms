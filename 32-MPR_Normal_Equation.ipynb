{
 "cells": [
  {
   "cell_type": "markdown",
   "id": "30cbdf3e",
   "metadata": {},
   "source": [
    "### Multiple Polynomial Regression Using Normal Equation"
   ]
  },
  {
   "cell_type": "code",
   "execution_count": 144,
   "id": "789c6adf",
   "metadata": {},
   "outputs": [],
   "source": [
    "import numpy as np\n",
    "from sklearn.preprocessing import PolynomialFeatures"
   ]
  },
  {
   "cell_type": "code",
   "execution_count": 145,
   "id": "770f1415",
   "metadata": {},
   "outputs": [],
   "source": [
    "x = np.array([[1,2],[2,1],[3,4]])"
   ]
  },
  {
   "cell_type": "code",
   "execution_count": 146,
   "id": "816a3bac",
   "metadata": {},
   "outputs": [],
   "source": [
    "y = np.array([6,8,15]).reshape(-1,1)"
   ]
  },
  {
   "cell_type": "code",
   "execution_count": 147,
   "id": "03ade948",
   "metadata": {},
   "outputs": [
    {
     "data": {
      "text/plain": [
       "array([[ 1.,  1.,  2.,  1.,  2.,  4.],\n",
       "       [ 1.,  2.,  1.,  4.,  2.,  1.],\n",
       "       [ 1.,  3.,  4.,  9., 12., 16.]])"
      ]
     },
     "execution_count": 147,
     "metadata": {},
     "output_type": "execute_result"
    }
   ],
   "source": [
    "poly = PolynomialFeatures(degree=2,include_bias=True)\n",
    "x_poly = poly.fit_transform(x)\n",
    "x_poly"
   ]
  },
  {
   "cell_type": "code",
   "execution_count": 148,
   "id": "c18b621c",
   "metadata": {},
   "outputs": [],
   "source": [
    "theta = np.linalg.pinv(x_poly.T @ x_poly) @ x_poly.T @ y\n",
    "theta = theta.flatten()            # amkes it as 1D"
   ]
  },
  {
   "cell_type": "code",
   "execution_count": 149,
   "id": "8165fb0d",
   "metadata": {},
   "outputs": [
    {
     "data": {
      "text/plain": [
       "array([ 1.36242138,  1.3577044 ,  1.52044025,  0.74371069, -0.29795597,\n",
       "        0.02279874])"
      ]
     },
     "execution_count": 149,
     "metadata": {},
     "output_type": "execute_result"
    }
   ],
   "source": [
    "theta"
   ]
  },
  {
   "cell_type": "code",
   "execution_count": 150,
   "id": "1e09392c",
   "metadata": {},
   "outputs": [
    {
     "name": "stdout",
     "output_type": "stream",
     "text": [
      "Theta values: [ 1.36242138  1.3577044   1.52044025  0.74371069 -0.29795597  0.02279874]\n"
     ]
    }
   ],
   "source": [
    "print(\"Theta values:\", theta)"
   ]
  },
  {
   "cell_type": "code",
   "execution_count": 151,
   "id": "f2e59050",
   "metadata": {},
   "outputs": [],
   "source": [
    "x_new = np.array([[1,2]])\n",
    "x_new1 = poly.fit_transform(x_new)"
   ]
  },
  {
   "cell_type": "code",
   "execution_count": 152,
   "id": "3be38915",
   "metadata": {},
   "outputs": [
    {
     "data": {
      "text/plain": [
       "array([[1., 1., 2., 1., 2., 4.]])"
      ]
     },
     "execution_count": 152,
     "metadata": {},
     "output_type": "execute_result"
    }
   ],
   "source": [
    "x_new1"
   ]
  },
  {
   "cell_type": "code",
   "execution_count": 153,
   "id": "7628a54d",
   "metadata": {},
   "outputs": [],
   "source": [
    "y_pred = np.dot(x_new1,theta)"
   ]
  },
  {
   "cell_type": "code",
   "execution_count": null,
   "id": "d60427f6",
   "metadata": {},
   "outputs": [
    {
     "data": {
      "text/plain": [
       "array([6.])"
      ]
     },
     "execution_count": 154,
     "metadata": {},
     "output_type": "execute_result"
    }
   ],
   "source": [
    "y_pred   # Output is same as above input trained data so model is valid"
   ]
  }
 ],
 "metadata": {
  "kernelspec": {
   "display_name": "DS_all_lib",
   "language": "python",
   "name": "python3"
  },
  "language_info": {
   "codemirror_mode": {
    "name": "ipython",
    "version": 3
   },
   "file_extension": ".py",
   "mimetype": "text/x-python",
   "name": "python",
   "nbconvert_exporter": "python",
   "pygments_lexer": "ipython3",
   "version": "3.10.5"
  }
 },
 "nbformat": 4,
 "nbformat_minor": 5
}
