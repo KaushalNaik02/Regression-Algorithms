{
 "cells": [
  {
   "cell_type": "markdown",
   "id": "50be0b70",
   "metadata": {},
   "source": [
    "### Implementing Simple Polynomial regression Using the Normal Equation\n"
   ]
  },
  {
   "cell_type": "markdown",
   "id": "b62abd0d",
   "metadata": {},
   "source": [
    "##### Without Writting Everything Manually"
   ]
  },
  {
   "cell_type": "code",
   "execution_count": 18,
   "id": "b26be0d3",
   "metadata": {},
   "outputs": [],
   "source": [
    "import numpy as np"
   ]
  },
  {
   "cell_type": "code",
   "execution_count": 19,
   "id": "ca898cf4",
   "metadata": {},
   "outputs": [],
   "source": [
    "X = np.array([1,2,3,4,5])\n",
    "y = np.array([3,9,28,65,126])"
   ]
  },
  {
   "cell_type": "code",
   "execution_count": 20,
   "id": "af5e7563",
   "metadata": {},
   "outputs": [],
   "source": [
    "Degree= 3"
   ]
  },
  {
   "cell_type": "code",
   "execution_count": 21,
   "id": "0d7a518d",
   "metadata": {},
   "outputs": [],
   "source": [
    "X_poly = np.vstack([X**i for i in range(Degree+1)]).T"
   ]
  },
  {
   "cell_type": "code",
   "execution_count": 22,
   "id": "411dc2c3",
   "metadata": {},
   "outputs": [],
   "source": [
    "theta = np.linalg.inv(X_poly.T @ X_poly) @ X_poly.T @ y"
   ]
  },
  {
   "cell_type": "code",
   "execution_count": 23,
   "id": "c7c3b49d",
   "metadata": {},
   "outputs": [
    {
     "data": {
      "text/plain": [
       "array([ 4.2       , -3.02380952,  0.89285714,  0.91666667])"
      ]
     },
     "execution_count": 23,
     "metadata": {},
     "output_type": "execute_result"
    }
   ],
   "source": [
    "theta"
   ]
  },
  {
   "cell_type": "code",
   "execution_count": 24,
   "id": "db76a9d9",
   "metadata": {},
   "outputs": [
    {
     "name": "stdout",
     "output_type": "stream",
     "text": [
      "Price when age is 4 : 65.06\n"
     ]
    }
   ],
   "source": [
    "age = 4\n",
    "y_pred = 0\n",
    "for i in range(len(theta)):\n",
    "    y_pred =y_pred + theta[i] * (age ** i)\n",
    "print(f\"Price when age is 4 : {y_pred:.2f}\")"
   ]
  }
 ],
 "metadata": {
  "kernelspec": {
   "display_name": "DS_all_lib",
   "language": "python",
   "name": "python3"
  },
  "language_info": {
   "codemirror_mode": {
    "name": "ipython",
    "version": 3
   },
   "file_extension": ".py",
   "mimetype": "text/x-python",
   "name": "python",
   "nbconvert_exporter": "python",
   "pygments_lexer": "ipython3",
   "version": "3.10.5"
  }
 },
 "nbformat": 4,
 "nbformat_minor": 5
}
