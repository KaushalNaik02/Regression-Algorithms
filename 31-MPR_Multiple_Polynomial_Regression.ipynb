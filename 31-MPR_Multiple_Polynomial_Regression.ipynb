{
 "cells": [
  {
   "cell_type": "markdown",
   "id": "35fd132b",
   "metadata": {},
   "source": [
    "### Multiple Polynomial Regression"
   ]
  },
  {
   "cell_type": "markdown",
   "id": "ed082008",
   "metadata": {},
   "source": [
    "####\n",
    "Multiple Polynomial Regression is an extension of multiple linear regression where polynomial terms (non-linear) are included for one or more independent variables.\n",
    "\n",
    "It allows the model to fit non-linear curves to the data while still being linear in the parameters.\n",
    "####"
   ]
  },
  {
   "cell_type": "markdown",
   "id": "3288aeec",
   "metadata": {},
   "source": [
    "####\n",
    " When to Include Interaction Terms (X1X2)?\n",
    "\n",
    "✅ If one feature’s effect depends on the value of another.\n",
    "\n",
    "✅ In general, always include if you're doing full polynomial regression.\n",
    "\n",
    "❌ Can be skipped for simplicity or to reduce overfitting.\n",
    "####"
   ]
  }
 ],
 "metadata": {
  "kernelspec": {
   "display_name": "DS_all_lib",
   "language": "python",
   "name": "python3"
  },
  "language_info": {
   "name": "python",
   "version": "3.10.5"
  }
 },
 "nbformat": 4,
 "nbformat_minor": 5
}
