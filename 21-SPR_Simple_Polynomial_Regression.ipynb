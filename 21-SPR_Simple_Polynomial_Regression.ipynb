{
 "cells": [
  {
   "cell_type": "markdown",
   "metadata": {},
   "source": [
    "## Simple Polynomial Regression"
   ]
  },
  {
   "cell_type": "markdown",
   "metadata": {},
   "source": [
    "### 1. What is Simple Polynomial Regression?\n",
    "#### It is a type of regression that fits a polynomial curve to the data instead of a straight line. This helps when the data does not follow a linear trend but has a curved relationship."
   ]
  },
  {
   "cell_type": "markdown",
   "metadata": {},
   "source": [
    "### 2. Why use Polynomial Regression?\n",
    "\n",
    "#### When the data shows curved trends instead of a straight line.\n",
    "\n",
    "#### When Linear Regression fails to capture complex relationships"
   ]
  },
  {
   "cell_type": "markdown",
   "metadata": {},
   "source": [
    " ### 3. Steps to Implement Simple Polynomial Regression\n",
    "#### 1️⃣ Import necessary libraries\n",
    "#### 2️⃣ Generate dataset (or use real-world data)\n",
    "#### 3️⃣ Convert features into polynomial terms\n",
    "#### 4️⃣ Train a Linear Regression model\n",
    "#### 5️⃣ Visualize the polynomial curve"
   ]
  }
 ],
 "metadata": {
  "kernelspec": {
   "display_name": "DS_all_lib",
   "language": "python",
   "name": "python3"
  },
  "language_info": {
   "name": "python",
   "version": "3.10.5"
  }
 },
 "nbformat": 4,
 "nbformat_minor": 2
}
