{
 "cells": [
  {
   "cell_type": "markdown",
   "metadata": {},
   "source": [
    "## Simple Polynomial Regression"
   ]
  },
  {
   "cell_type": "markdown",
   "metadata": {},
   "source": [
    "### What is Simple Polynomial Regression?\n",
    "#### It is a type of regression that fits a polynomial curve to the data instead of a straight line. This helps when the data does not follow a linear trend but has a curved relationship."
   ]
  },
  {
   "cell_type": "markdown",
   "metadata": {},
   "source": [
    "### Why use Polynomial Regression?\n",
    "\n",
    "#### When the data shows curved trends instead of a straight line.\n",
    "\n",
    "#### When Linear Regression fails to capture complex relationships"
   ]
  }
 ],
 "metadata": {
  "kernelspec": {
   "display_name": "DS_all_lib",
   "language": "python",
   "name": "python3"
  },
  "language_info": {
   "name": "python",
   "version": "3.10.5"
  }
 },
 "nbformat": 4,
 "nbformat_minor": 2
}
