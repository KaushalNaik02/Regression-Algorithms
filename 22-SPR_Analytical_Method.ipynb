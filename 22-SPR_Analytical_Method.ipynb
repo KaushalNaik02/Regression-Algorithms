{
 "cells": [
  {
   "cell_type": "markdown",
   "id": "20a35a5d",
   "metadata": {},
   "source": [
    "### Simple Polynomial Regression Using Normal Equation (Analytical Method)\n"
   ]
  },
  {
   "cell_type": "code",
   "execution_count": 1,
   "id": "c222b573",
   "metadata": {},
   "outputs": [],
   "source": [
    "import numpy as np"
   ]
  },
  {
   "cell_type": "code",
   "execution_count": 2,
   "id": "ace783ee",
   "metadata": {},
   "outputs": [],
   "source": [
    "X = np.array([1,2,3,4,5])\n",
    "y = np.array([3,9,28,65,126])"
   ]
  },
  {
   "cell_type": "markdown",
   "id": "0e2cb5a9",
   "metadata": {},
   "source": [
    "#### Adding Polynomials"
   ]
  },
  {
   "cell_type": "code",
   "execution_count": 4,
   "id": "a1255825",
   "metadata": {},
   "outputs": [],
   "source": [
    "X_poly = np.vstack((np.ones(len(X)),X,X**2,X**3))"
   ]
  },
  {
   "cell_type": "code",
   "execution_count": 5,
   "id": "4ead2748",
   "metadata": {},
   "outputs": [
    {
     "data": {
      "text/plain": [
       "array([[  1.,   1.,   1.,   1.,   1.],\n",
       "       [  1.,   2.,   3.,   4.,   5.],\n",
       "       [  1.,   4.,   9.,  16.,  25.],\n",
       "       [  1.,   8.,  27.,  64., 125.]])"
      ]
     },
     "execution_count": 5,
     "metadata": {},
     "output_type": "execute_result"
    }
   ],
   "source": [
    "X_poly"
   ]
  },
  {
   "cell_type": "markdown",
   "id": "958cf5c8",
   "metadata": {},
   "source": [
    "#### In the above formula the values will be added as Rows but we want it as Column so in below step. We Did Transpose(.T)"
   ]
  },
  {
   "cell_type": "code",
   "execution_count": 6,
   "id": "2db49011",
   "metadata": {},
   "outputs": [],
   "source": [
    "X_poly = X_poly.T"
   ]
  },
  {
   "cell_type": "code",
   "execution_count": 7,
   "id": "9de06c6f",
   "metadata": {},
   "outputs": [
    {
     "data": {
      "text/plain": [
       "array([[  1.,   1.,   1.,   1.],\n",
       "       [  1.,   2.,   4.,   8.],\n",
       "       [  1.,   3.,   9.,  27.],\n",
       "       [  1.,   4.,  16.,  64.],\n",
       "       [  1.,   5.,  25., 125.]])"
      ]
     },
     "execution_count": 7,
     "metadata": {},
     "output_type": "execute_result"
    }
   ],
   "source": [
    "X_poly"
   ]
  },
  {
   "cell_type": "code",
   "execution_count": 16,
   "id": "9e381cc6",
   "metadata": {},
   "outputs": [],
   "source": [
    "theta = np.linalg.inv(X_poly.T @ X_poly) @ X_poly.T @ y"
   ]
  },
  {
   "cell_type": "code",
   "execution_count": 17,
   "id": "5f202ea7",
   "metadata": {},
   "outputs": [
    {
     "data": {
      "text/plain": [
       "array([ 4.2       , -3.02380952,  0.89285714,  0.91666667])"
      ]
     },
     "execution_count": 17,
     "metadata": {},
     "output_type": "execute_result"
    }
   ],
   "source": [
    "theta"
   ]
  },
  {
   "cell_type": "markdown",
   "id": "8c0803f7",
   "metadata": {},
   "source": [
    "#### Predicting New term"
   ]
  },
  {
   "cell_type": "code",
   "execution_count": 27,
   "id": "4a3ec4e6",
   "metadata": {},
   "outputs": [
    {
     "name": "stdout",
     "output_type": "stream",
     "text": [
      "Price when age is 4 : 65.06\n"
     ]
    }
   ],
   "source": [
    "age = 4\n",
    "y_pred = theta[0] + theta[1]*age + theta[2]*age**2 + theta[3]*age**3\n",
    "print(f\"Price when age is 4 : {y_pred:.2f}\")"
   ]
  },
  {
   "cell_type": "code",
   "execution_count": null,
   "id": "8e6bf2a6",
   "metadata": {},
   "outputs": [],
   "source": []
  }
 ],
 "metadata": {
  "kernelspec": {
   "display_name": "DS_all_lib",
   "language": "python",
   "name": "python3"
  },
  "language_info": {
   "codemirror_mode": {
    "name": "ipython",
    "version": 3
   },
   "file_extension": ".py",
   "mimetype": "text/x-python",
   "name": "python",
   "nbconvert_exporter": "python",
   "pygments_lexer": "ipython3",
   "version": "3.10.5"
  }
 },
 "nbformat": 4,
 "nbformat_minor": 5
}
