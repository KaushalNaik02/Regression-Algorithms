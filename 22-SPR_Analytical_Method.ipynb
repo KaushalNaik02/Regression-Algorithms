{
 "cells": [
  {
   "cell_type": "markdown",
   "id": "20a35a5d",
   "metadata": {},
   "source": [
    "### Simple Polynomial Regression Using Normal Equation (Analytical Method)\n"
   ]
  },
  {
   "cell_type": "code",
   "execution_count": null,
   "id": "c222b573",
   "metadata": {},
   "outputs": [],
   "source": []
  }
 ],
 "metadata": {
  "kernelspec": {
   "display_name": "DS_all_lib",
   "language": "python",
   "name": "python3"
  },
  "language_info": {
   "name": "python",
   "version": "3.10.5"
  }
 },
 "nbformat": 4,
 "nbformat_minor": 5
}
