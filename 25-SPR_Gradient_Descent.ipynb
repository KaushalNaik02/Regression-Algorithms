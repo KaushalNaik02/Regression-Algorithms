{
 "cells": [
  {
   "cell_type": "markdown",
   "id": "12771ea7",
   "metadata": {},
   "source": [
    "### SPR Using Gradient Descent"
   ]
  },
  {
   "cell_type": "code",
   "execution_count": 1,
   "id": "18c5cc73",
   "metadata": {},
   "outputs": [],
   "source": [
    "import numpy as np\n"
   ]
  },
  {
   "cell_type": "code",
   "execution_count": 2,
   "id": "0992262d",
   "metadata": {},
   "outputs": [],
   "source": [
    "x = np.array([1, 2, 3])\n",
    "y = np.array([3, 9, 27])\n"
   ]
  },
  {
   "cell_type": "code",
   "execution_count": 3,
   "id": "d7566e04",
   "metadata": {},
   "outputs": [],
   "source": [
    "degree = 3  # degree of polynomial\n",
    "\n",
    "# Create polynomial features with bias term (x^0, x^1, ..., x^3)\n",
    "X_poly = np.vstack([x**i for i in range(degree + 1)]).T\n"
   ]
  },
  {
   "cell_type": "code",
   "execution_count": 4,
   "id": "b374fad0",
   "metadata": {},
   "outputs": [],
   "source": [
    "theta = np.zeros(degree + 1)  # [θ0, θ1, θ2, θ3] all zeros\n",
    "alpha = 0.01                  # learning rate\n",
    "epochs = 1000                 # iterations\n",
    "m = len(y)                    # number of data points\n"
   ]
  },
  {
   "cell_type": "code",
   "execution_count": null,
   "id": "aa7fc781",
   "metadata": {},
   "outputs": [],
   "source": []
  }
 ],
 "metadata": {
  "kernelspec": {
   "display_name": "DS_all_lib",
   "language": "python",
   "name": "python3"
  },
  "language_info": {
   "codemirror_mode": {
    "name": "ipython",
    "version": 3
   },
   "file_extension": ".py",
   "mimetype": "text/x-python",
   "name": "python",
   "nbconvert_exporter": "python",
   "pygments_lexer": "ipython3",
   "version": "3.10.5"
  }
 },
 "nbformat": 4,
 "nbformat_minor": 5
}
